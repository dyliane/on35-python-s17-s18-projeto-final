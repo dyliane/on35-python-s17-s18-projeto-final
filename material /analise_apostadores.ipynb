{
 "cells": [
  {
   "cell_type": "markdown",
   "metadata": {},
   "source": [
    "## Importações e seleção dos dados"
   ]
  },
  {
   "cell_type": "code",
   "execution_count": 2,
   "metadata": {},
   "outputs": [],
   "source": [
    "import pandas as pd\n",
    "import numpy as np\n",
    "import seaborn as sns\n",
    "import matplotlib.pyplot as plt\n",
    "from scipy.stats import chi2_contingency\n",
    "from scipy import stats\n",
    "import statsmodels.api as sm\n",
    "from statsmodels.stats.weightstats import ztest"
   ]
  },
  {
   "cell_type": "code",
   "execution_count": 3,
   "metadata": {},
   "outputs": [
    {
     "name": "stderr",
     "output_type": "stream",
     "text": [
      "/var/folders/qh/0y24swzd4_z3zrrk6dvrgvqh0000gn/T/ipykernel_40020/184671249.py:1: DtypeWarning: Columns (12,24,32,33,34,82,83,84,95,96,97,98,111,158,159,164,176,177,178,179,180,189,203,204,213,235,255,261) have mixed types. Specify dtype option on import or set low_memory=False.\n",
      "  df1 = pd.read_csv('base_rotulos.csv')\n"
     ]
    }
   ],
   "source": [
    "df1 = pd.read_csv('base_rotulos.csv')"
   ]
  },
  {
   "cell_type": "code",
   "execution_count": 4,
   "metadata": {},
   "outputs": [
    {
     "name": "stdout",
     "output_type": "stream",
     "text": [
      "<class 'pandas.core.frame.DataFrame'>\n",
      "RangeIndex: 5814 entries, 0 to 5813\n",
      "Columns: 335 entries, nquest to PESOE\n",
      "dtypes: int64(124), object(211)\n",
      "memory usage: 14.9+ MB\n"
     ]
    }
   ],
   "source": [
    "df1.info()"
   ]
  },
  {
   "cell_type": "code",
   "execution_count": 5,
   "metadata": {},
   "outputs": [],
   "source": [
    "df1 = df1[['nquest', 'idade1', 'faixa etária', 'sexo', 'cor', 'REGIAO', 'RCLASSE2', 'estcivil', 'renda', 'escola', 'nfilhos', 'p52aa', 'p55', 'p56', 'p66', 'p64g', 'p64h' ]]"
   ]
  },
  {
   "cell_type": "code",
   "execution_count": 6,
   "metadata": {},
   "outputs": [
    {
     "name": "stdout",
     "output_type": "stream",
     "text": [
      "<class 'pandas.core.frame.DataFrame'>\n",
      "RangeIndex: 5814 entries, 0 to 5813\n",
      "Data columns (total 17 columns):\n",
      " #   Column        Non-Null Count  Dtype \n",
      "---  ------        --------------  ----- \n",
      " 0   nquest        5814 non-null   int64 \n",
      " 1   idade1        5814 non-null   int64 \n",
      " 2   faixa etária  5814 non-null   object\n",
      " 3   sexo          5814 non-null   object\n",
      " 4   cor           5814 non-null   object\n",
      " 5   REGIAO        5814 non-null   object\n",
      " 6   RCLASSE2      5814 non-null   object\n",
      " 7   estcivil      5814 non-null   object\n",
      " 8   renda         5814 non-null   object\n",
      " 9   escola        5814 non-null   object\n",
      " 10  nfilhos       5814 non-null   int64 \n",
      " 11  p52aa         5814 non-null   object\n",
      " 12  p55           5814 non-null   object\n",
      " 13  p56           5814 non-null   object\n",
      " 14  p66           5814 non-null   object\n",
      " 15  p64g          5814 non-null   object\n",
      " 16  p64h          5814 non-null   object\n",
      "dtypes: int64(3), object(14)\n",
      "memory usage: 772.3+ KB\n"
     ]
    }
   ],
   "source": [
    "df1.info()"
   ]
  },
  {
   "cell_type": "code",
   "execution_count": 7,
   "metadata": {},
   "outputs": [],
   "source": [
    "df2 = pd.read_csv('base_valores.csv')"
   ]
  },
  {
   "cell_type": "code",
   "execution_count": 8,
   "metadata": {},
   "outputs": [
    {
     "name": "stdout",
     "output_type": "stream",
     "text": [
      "<class 'pandas.core.frame.DataFrame'>\n",
      "RangeIndex: 5814 entries, 0 to 5813\n",
      "Columns: 335 entries, nquest to PESOE\n",
      "dtypes: int64(333), object(2)\n",
      "memory usage: 14.9+ MB\n"
     ]
    }
   ],
   "source": [
    "df2.info()"
   ]
  },
  {
   "cell_type": "code",
   "execution_count": 9,
   "metadata": {},
   "outputs": [
    {
     "name": "stdout",
     "output_type": "stream",
     "text": [
      "<class 'pandas.core.frame.DataFrame'>\n",
      "RangeIndex: 5814 entries, 0 to 5813\n",
      "Data columns (total 9 columns):\n",
      " #   Column     Non-Null Count  Dtype\n",
      "---  ------     --------------  -----\n",
      " 0   nquest     5814 non-null   int64\n",
      " 1   rendacat   5814 non-null   int64\n",
      " 2   escolacat  5814 non-null   int64\n",
      " 3   p64b       5814 non-null   int64\n",
      " 4   p64gn      5814 non-null   int64\n",
      " 5   p64hn      5814 non-null   int64\n",
      " 6   p52aan     5814 non-null   int64\n",
      " 7   p55n       5814 non-null   int64\n",
      " 8   p56n       5814 non-null   int64\n",
      "dtypes: int64(9)\n",
      "memory usage: 408.9 KB\n"
     ]
    }
   ],
   "source": [
    "df2 = df2[['nquest', 'rendacat', 'escolacat', 'p64b', 'p64gn', 'p64hn', 'p52aan', 'p55n', 'p56n' ]]\n",
    "df2.info()"
   ]
  },
  {
   "cell_type": "markdown",
   "metadata": {},
   "source": [
    "## Trabalhando no df"
   ]
  },
  {
   "cell_type": "code",
   "execution_count": 10,
   "metadata": {},
   "outputs": [],
   "source": [
    "df_invest = pd.merge(df1, df2, on=['nquest'], how='inner')"
   ]
  },
  {
   "cell_type": "code",
   "execution_count": 11,
   "metadata": {},
   "outputs": [
    {
     "name": "stdout",
     "output_type": "stream",
     "text": [
      "<class 'pandas.core.frame.DataFrame'>\n",
      "RangeIndex: 5814 entries, 0 to 5813\n",
      "Data columns (total 25 columns):\n",
      " #   Column        Non-Null Count  Dtype \n",
      "---  ------        --------------  ----- \n",
      " 0   nquest        5814 non-null   int64 \n",
      " 1   idade1        5814 non-null   int64 \n",
      " 2   faixa etária  5814 non-null   object\n",
      " 3   sexo          5814 non-null   object\n",
      " 4   cor           5814 non-null   object\n",
      " 5   REGIAO        5814 non-null   object\n",
      " 6   RCLASSE2      5814 non-null   object\n",
      " 7   estcivil      5814 non-null   object\n",
      " 8   renda         5814 non-null   object\n",
      " 9   escola        5814 non-null   object\n",
      " 10  nfilhos       5814 non-null   int64 \n",
      " 11  p52aa         5814 non-null   object\n",
      " 12  p55           5814 non-null   object\n",
      " 13  p56           5814 non-null   object\n",
      " 14  p66           5814 non-null   object\n",
      " 15  p64g          5814 non-null   object\n",
      " 16  p64h          5814 non-null   object\n",
      " 17  rendacat      5814 non-null   int64 \n",
      " 18  escolacat     5814 non-null   int64 \n",
      " 19  p64b          5814 non-null   int64 \n",
      " 20  p64gn         5814 non-null   int64 \n",
      " 21  p64hn         5814 non-null   int64 \n",
      " 22  p52aan        5814 non-null   int64 \n",
      " 23  p55n          5814 non-null   int64 \n",
      " 24  p56n          5814 non-null   int64 \n",
      "dtypes: int64(11), object(14)\n",
      "memory usage: 1.1+ MB\n"
     ]
    }
   ],
   "source": [
    "df_invest.info()"
   ]
  },
  {
   "cell_type": "code",
   "execution_count": 12,
   "metadata": {},
   "outputs": [],
   "source": [
    "df_invest['perfil'] = df_invest['p66'].apply(lambda x: 'apostador' if x == 'Frequentemente' else 'investidor')"
   ]
  },
  {
   "cell_type": "code",
   "execution_count": 13,
   "metadata": {},
   "outputs": [
    {
     "data": {
      "text/html": [
       "<div>\n",
       "<style scoped>\n",
       "    .dataframe tbody tr th:only-of-type {\n",
       "        vertical-align: middle;\n",
       "    }\n",
       "\n",
       "    .dataframe tbody tr th {\n",
       "        vertical-align: top;\n",
       "    }\n",
       "\n",
       "    .dataframe thead th {\n",
       "        text-align: right;\n",
       "    }\n",
       "</style>\n",
       "<table border=\"1\" class=\"dataframe\">\n",
       "  <thead>\n",
       "    <tr style=\"text-align: right;\">\n",
       "      <th></th>\n",
       "      <th>nquest</th>\n",
       "      <th>idade1</th>\n",
       "      <th>faixa etária</th>\n",
       "      <th>sexo</th>\n",
       "      <th>cor</th>\n",
       "      <th>REGIAO</th>\n",
       "      <th>RCLASSE2</th>\n",
       "      <th>estcivil</th>\n",
       "      <th>renda</th>\n",
       "      <th>escola</th>\n",
       "      <th>...</th>\n",
       "      <th>p64h</th>\n",
       "      <th>rendacat</th>\n",
       "      <th>escolacat</th>\n",
       "      <th>p64b</th>\n",
       "      <th>p64gn</th>\n",
       "      <th>p64hn</th>\n",
       "      <th>p52aan</th>\n",
       "      <th>p55n</th>\n",
       "      <th>p56n</th>\n",
       "      <th>perfil</th>\n",
       "    </tr>\n",
       "  </thead>\n",
       "  <tbody>\n",
       "    <tr>\n",
       "      <th>0</th>\n",
       "      <td>192956123</td>\n",
       "      <td>54</td>\n",
       "      <td>45-59</td>\n",
       "      <td>Feminino</td>\n",
       "      <td>Preta</td>\n",
       "      <td>Nordeste</td>\n",
       "      <td>D/E</td>\n",
       "      <td>Viuvo(a)</td>\n",
       "      <td>Até R$ 1.320,00</td>\n",
       "      <td>Fundamental II completo</td>\n",
       "      <td>...</td>\n",
       "      <td>Concorda Totalmente</td>\n",
       "      <td>9</td>\n",
       "      <td>3</td>\n",
       "      <td>5</td>\n",
       "      <td>5</td>\n",
       "      <td>5</td>\n",
       "      <td>0</td>\n",
       "      <td>2</td>\n",
       "      <td>0</td>\n",
       "      <td>investidor</td>\n",
       "    </tr>\n",
       "    <tr>\n",
       "      <th>1</th>\n",
       "      <td>192957178</td>\n",
       "      <td>67</td>\n",
       "      <td>60+</td>\n",
       "      <td>Feminino</td>\n",
       "      <td>Branca</td>\n",
       "      <td>Nordeste</td>\n",
       "      <td>D/E</td>\n",
       "      <td>Viuvo(a)</td>\n",
       "      <td>De R$ 1.321,00 Até R$ 2.640,00</td>\n",
       "      <td>Analfabeto/ Fundamental I incompleto</td>\n",
       "      <td>...</td>\n",
       "      <td>Discorda Totalmente</td>\n",
       "      <td>1</td>\n",
       "      <td>1</td>\n",
       "      <td>5</td>\n",
       "      <td>5</td>\n",
       "      <td>1</td>\n",
       "      <td>0</td>\n",
       "      <td>2</td>\n",
       "      <td>0</td>\n",
       "      <td>investidor</td>\n",
       "    </tr>\n",
       "    <tr>\n",
       "      <th>2</th>\n",
       "      <td>192958083</td>\n",
       "      <td>44</td>\n",
       "      <td>35-44</td>\n",
       "      <td>Feminino</td>\n",
       "      <td>Preta</td>\n",
       "      <td>Nordeste</td>\n",
       "      <td>C2</td>\n",
       "      <td>Casado(a)/com companheiro(a)</td>\n",
       "      <td>Até R$ 1.320,00</td>\n",
       "      <td>Ensino Médio completo</td>\n",
       "      <td>...</td>\n",
       "      <td>Discorda Totalmente</td>\n",
       "      <td>9</td>\n",
       "      <td>5</td>\n",
       "      <td>5</td>\n",
       "      <td>1</td>\n",
       "      <td>1</td>\n",
       "      <td>0</td>\n",
       "      <td>0</td>\n",
       "      <td>0</td>\n",
       "      <td>investidor</td>\n",
       "    </tr>\n",
       "    <tr>\n",
       "      <th>3</th>\n",
       "      <td>192958117</td>\n",
       "      <td>35</td>\n",
       "      <td>35-44</td>\n",
       "      <td>Feminino</td>\n",
       "      <td>Parda</td>\n",
       "      <td>Nordeste</td>\n",
       "      <td>D/E</td>\n",
       "      <td>Solteiro (a)</td>\n",
       "      <td>Até R$ 1.320,00</td>\n",
       "      <td>Fundamental I completo/ Fundamental II incompleto</td>\n",
       "      <td>...</td>\n",
       "      <td>Discorda Totalmente</td>\n",
       "      <td>9</td>\n",
       "      <td>2</td>\n",
       "      <td>5</td>\n",
       "      <td>5</td>\n",
       "      <td>1</td>\n",
       "      <td>5</td>\n",
       "      <td>0</td>\n",
       "      <td>0</td>\n",
       "      <td>investidor</td>\n",
       "    </tr>\n",
       "    <tr>\n",
       "      <th>4</th>\n",
       "      <td>192958632</td>\n",
       "      <td>69</td>\n",
       "      <td>60+</td>\n",
       "      <td>Feminino</td>\n",
       "      <td>Parda</td>\n",
       "      <td>Nordeste</td>\n",
       "      <td>C2</td>\n",
       "      <td>Separado/Divorciado</td>\n",
       "      <td>Recusa</td>\n",
       "      <td>Ensino Médio completo</td>\n",
       "      <td>...</td>\n",
       "      <td>Discorda Totalmente</td>\n",
       "      <td>97</td>\n",
       "      <td>5</td>\n",
       "      <td>1</td>\n",
       "      <td>1</td>\n",
       "      <td>1</td>\n",
       "      <td>96</td>\n",
       "      <td>0</td>\n",
       "      <td>0</td>\n",
       "      <td>investidor</td>\n",
       "    </tr>\n",
       "    <tr>\n",
       "      <th>...</th>\n",
       "      <td>...</td>\n",
       "      <td>...</td>\n",
       "      <td>...</td>\n",
       "      <td>...</td>\n",
       "      <td>...</td>\n",
       "      <td>...</td>\n",
       "      <td>...</td>\n",
       "      <td>...</td>\n",
       "      <td>...</td>\n",
       "      <td>...</td>\n",
       "      <td>...</td>\n",
       "      <td>...</td>\n",
       "      <td>...</td>\n",
       "      <td>...</td>\n",
       "      <td>...</td>\n",
       "      <td>...</td>\n",
       "      <td>...</td>\n",
       "      <td>...</td>\n",
       "      <td>...</td>\n",
       "      <td>...</td>\n",
       "      <td>...</td>\n",
       "    </tr>\n",
       "    <tr>\n",
       "      <th>5809</th>\n",
       "      <td>193921867</td>\n",
       "      <td>50</td>\n",
       "      <td>45-59</td>\n",
       "      <td>Masculino</td>\n",
       "      <td>Branca</td>\n",
       "      <td>Sul</td>\n",
       "      <td>B2</td>\n",
       "      <td>Solteiro (a)</td>\n",
       "      <td>De R$ 3.961,00 Até R$ 6.600,00</td>\n",
       "      <td>Pós-graduação</td>\n",
       "      <td>...</td>\n",
       "      <td>Discorda Totalmente</td>\n",
       "      <td>3</td>\n",
       "      <td>8</td>\n",
       "      <td>2</td>\n",
       "      <td>1</td>\n",
       "      <td>1</td>\n",
       "      <td>8</td>\n",
       "      <td>0</td>\n",
       "      <td>0</td>\n",
       "      <td>investidor</td>\n",
       "    </tr>\n",
       "    <tr>\n",
       "      <th>5810</th>\n",
       "      <td>193921868</td>\n",
       "      <td>29</td>\n",
       "      <td>25-34</td>\n",
       "      <td>Feminino</td>\n",
       "      <td>Branca</td>\n",
       "      <td>Sul</td>\n",
       "      <td>B2</td>\n",
       "      <td>Casado(a)/com companheiro(a)</td>\n",
       "      <td>De R$ 2.640,00 Até R$ 3.960,00</td>\n",
       "      <td>Ensino Médio completo</td>\n",
       "      <td>...</td>\n",
       "      <td>Discorda Totalmente</td>\n",
       "      <td>2</td>\n",
       "      <td>5</td>\n",
       "      <td>5</td>\n",
       "      <td>2</td>\n",
       "      <td>1</td>\n",
       "      <td>0</td>\n",
       "      <td>1</td>\n",
       "      <td>98</td>\n",
       "      <td>investidor</td>\n",
       "    </tr>\n",
       "    <tr>\n",
       "      <th>5811</th>\n",
       "      <td>193921869</td>\n",
       "      <td>28</td>\n",
       "      <td>25-34</td>\n",
       "      <td>Masculino</td>\n",
       "      <td>Parda</td>\n",
       "      <td>Sul</td>\n",
       "      <td>C1</td>\n",
       "      <td>Separado/Divorciado</td>\n",
       "      <td>De R$ 1.321,00 Até R$ 2.640,00</td>\n",
       "      <td>Fundamental I completo/ Fundamental II incompleto</td>\n",
       "      <td>...</td>\n",
       "      <td>Discorda Totalmente</td>\n",
       "      <td>1</td>\n",
       "      <td>2</td>\n",
       "      <td>5</td>\n",
       "      <td>4</td>\n",
       "      <td>1</td>\n",
       "      <td>0</td>\n",
       "      <td>1</td>\n",
       "      <td>1</td>\n",
       "      <td>investidor</td>\n",
       "    </tr>\n",
       "    <tr>\n",
       "      <th>5812</th>\n",
       "      <td>193925879</td>\n",
       "      <td>54</td>\n",
       "      <td>45-59</td>\n",
       "      <td>Feminino</td>\n",
       "      <td>Branca</td>\n",
       "      <td>Sul</td>\n",
       "      <td>B2</td>\n",
       "      <td>Casado(a)/com companheiro(a)</td>\n",
       "      <td>De R$ 2.640,00 Até R$ 3.960,00</td>\n",
       "      <td>Fundamental II completo</td>\n",
       "      <td>...</td>\n",
       "      <td>Discorda Totalmente</td>\n",
       "      <td>2</td>\n",
       "      <td>3</td>\n",
       "      <td>5</td>\n",
       "      <td>1</td>\n",
       "      <td>1</td>\n",
       "      <td>0</td>\n",
       "      <td>2</td>\n",
       "      <td>0</td>\n",
       "      <td>investidor</td>\n",
       "    </tr>\n",
       "    <tr>\n",
       "      <th>5813</th>\n",
       "      <td>193925880</td>\n",
       "      <td>67</td>\n",
       "      <td>60+</td>\n",
       "      <td>Masculino</td>\n",
       "      <td>Branca</td>\n",
       "      <td>Sul</td>\n",
       "      <td>C1</td>\n",
       "      <td>Casado(a)/com companheiro(a)</td>\n",
       "      <td>De R$ 1.321,00 Até R$ 2.640,00</td>\n",
       "      <td>Fundamental I completo/ Fundamental II incompleto</td>\n",
       "      <td>...</td>\n",
       "      <td>Discorda Totalmente</td>\n",
       "      <td>1</td>\n",
       "      <td>2</td>\n",
       "      <td>1</td>\n",
       "      <td>1</td>\n",
       "      <td>1</td>\n",
       "      <td>0</td>\n",
       "      <td>2</td>\n",
       "      <td>0</td>\n",
       "      <td>investidor</td>\n",
       "    </tr>\n",
       "  </tbody>\n",
       "</table>\n",
       "<p>5814 rows × 26 columns</p>\n",
       "</div>"
      ],
      "text/plain": [
       "         nquest  idade1 faixa etária       sexo     cor    REGIAO RCLASSE2  \\\n",
       "0     192956123      54        45-59   Feminino   Preta  Nordeste      D/E   \n",
       "1     192957178      67          60+   Feminino  Branca  Nordeste      D/E   \n",
       "2     192958083      44        35-44   Feminino   Preta  Nordeste       C2   \n",
       "3     192958117      35        35-44   Feminino   Parda  Nordeste      D/E   \n",
       "4     192958632      69          60+   Feminino   Parda  Nordeste       C2   \n",
       "...         ...     ...          ...        ...     ...       ...      ...   \n",
       "5809  193921867      50        45-59  Masculino  Branca       Sul       B2   \n",
       "5810  193921868      29        25-34   Feminino  Branca       Sul       B2   \n",
       "5811  193921869      28        25-34  Masculino   Parda       Sul       C1   \n",
       "5812  193925879      54        45-59   Feminino  Branca       Sul       B2   \n",
       "5813  193925880      67          60+  Masculino  Branca       Sul       C1   \n",
       "\n",
       "                          estcivil                           renda  \\\n",
       "0                         Viuvo(a)                 Até R$ 1.320,00   \n",
       "1                         Viuvo(a)  De R$ 1.321,00 Até R$ 2.640,00   \n",
       "2     Casado(a)/com companheiro(a)                 Até R$ 1.320,00   \n",
       "3                     Solteiro (a)                 Até R$ 1.320,00   \n",
       "4              Separado/Divorciado                          Recusa   \n",
       "...                            ...                             ...   \n",
       "5809                  Solteiro (a)  De R$ 3.961,00 Até R$ 6.600,00   \n",
       "5810  Casado(a)/com companheiro(a)  De R$ 2.640,00 Até R$ 3.960,00   \n",
       "5811           Separado/Divorciado  De R$ 1.321,00 Até R$ 2.640,00   \n",
       "5812  Casado(a)/com companheiro(a)  De R$ 2.640,00 Até R$ 3.960,00   \n",
       "5813  Casado(a)/com companheiro(a)  De R$ 1.321,00 Até R$ 2.640,00   \n",
       "\n",
       "                                                 escola  ...  \\\n",
       "0                               Fundamental II completo  ...   \n",
       "1                  Analfabeto/ Fundamental I incompleto  ...   \n",
       "2                                 Ensino Médio completo  ...   \n",
       "3     Fundamental I completo/ Fundamental II incompleto  ...   \n",
       "4                                 Ensino Médio completo  ...   \n",
       "...                                                 ...  ...   \n",
       "5809                                      Pós-graduação  ...   \n",
       "5810                              Ensino Médio completo  ...   \n",
       "5811  Fundamental I completo/ Fundamental II incompleto  ...   \n",
       "5812                            Fundamental II completo  ...   \n",
       "5813  Fundamental I completo/ Fundamental II incompleto  ...   \n",
       "\n",
       "                     p64h rendacat escolacat p64b p64gn p64hn p52aan  p55n  \\\n",
       "0     Concorda Totalmente        9         3    5     5     5      0     2   \n",
       "1     Discorda Totalmente        1         1    5     5     1      0     2   \n",
       "2     Discorda Totalmente        9         5    5     1     1      0     0   \n",
       "3     Discorda Totalmente        9         2    5     5     1      5     0   \n",
       "4     Discorda Totalmente       97         5    1     1     1     96     0   \n",
       "...                   ...      ...       ...  ...   ...   ...    ...   ...   \n",
       "5809  Discorda Totalmente        3         8    2     1     1      8     0   \n",
       "5810  Discorda Totalmente        2         5    5     2     1      0     1   \n",
       "5811  Discorda Totalmente        1         2    5     4     1      0     1   \n",
       "5812  Discorda Totalmente        2         3    5     1     1      0     2   \n",
       "5813  Discorda Totalmente        1         2    1     1     1      0     2   \n",
       "\n",
       "      p56n      perfil  \n",
       "0        0  investidor  \n",
       "1        0  investidor  \n",
       "2        0  investidor  \n",
       "3        0  investidor  \n",
       "4        0  investidor  \n",
       "...    ...         ...  \n",
       "5809     0  investidor  \n",
       "5810    98  investidor  \n",
       "5811     1  investidor  \n",
       "5812     0  investidor  \n",
       "5813     0  investidor  \n",
       "\n",
       "[5814 rows x 26 columns]"
      ]
     },
     "execution_count": 13,
     "metadata": {},
     "output_type": "execute_result"
    }
   ],
   "source": [
    "df_invest"
   ]
  },
  {
   "cell_type": "code",
   "execution_count": 14,
   "metadata": {},
   "outputs": [],
   "source": [
    "df_invest['perfil binário'] = df_invest['perfil'].apply(lambda x: '1' if x == 'apostador' else '0')"
   ]
  },
  {
   "cell_type": "code",
   "execution_count": 15,
   "metadata": {},
   "outputs": [
    {
     "data": {
      "text/html": [
       "<div>\n",
       "<style scoped>\n",
       "    .dataframe tbody tr th:only-of-type {\n",
       "        vertical-align: middle;\n",
       "    }\n",
       "\n",
       "    .dataframe tbody tr th {\n",
       "        vertical-align: top;\n",
       "    }\n",
       "\n",
       "    .dataframe thead th {\n",
       "        text-align: right;\n",
       "    }\n",
       "</style>\n",
       "<table border=\"1\" class=\"dataframe\">\n",
       "  <thead>\n",
       "    <tr style=\"text-align: right;\">\n",
       "      <th></th>\n",
       "      <th>nquest</th>\n",
       "      <th>idade1</th>\n",
       "      <th>faixa etária</th>\n",
       "      <th>sexo</th>\n",
       "      <th>cor</th>\n",
       "      <th>REGIAO</th>\n",
       "      <th>RCLASSE2</th>\n",
       "      <th>estcivil</th>\n",
       "      <th>renda</th>\n",
       "      <th>escola</th>\n",
       "      <th>...</th>\n",
       "      <th>rendacat</th>\n",
       "      <th>escolacat</th>\n",
       "      <th>p64b</th>\n",
       "      <th>p64gn</th>\n",
       "      <th>p64hn</th>\n",
       "      <th>p52aan</th>\n",
       "      <th>p55n</th>\n",
       "      <th>p56n</th>\n",
       "      <th>perfil</th>\n",
       "      <th>perfil binário</th>\n",
       "    </tr>\n",
       "  </thead>\n",
       "  <tbody>\n",
       "    <tr>\n",
       "      <th>0</th>\n",
       "      <td>192956123</td>\n",
       "      <td>54</td>\n",
       "      <td>45-59</td>\n",
       "      <td>Feminino</td>\n",
       "      <td>Preta</td>\n",
       "      <td>Nordeste</td>\n",
       "      <td>D/E</td>\n",
       "      <td>Viuvo(a)</td>\n",
       "      <td>Até R$ 1.320,00</td>\n",
       "      <td>Fundamental II completo</td>\n",
       "      <td>...</td>\n",
       "      <td>9</td>\n",
       "      <td>3</td>\n",
       "      <td>5</td>\n",
       "      <td>5</td>\n",
       "      <td>5</td>\n",
       "      <td>0</td>\n",
       "      <td>2</td>\n",
       "      <td>0</td>\n",
       "      <td>investidor</td>\n",
       "      <td>0</td>\n",
       "    </tr>\n",
       "    <tr>\n",
       "      <th>1</th>\n",
       "      <td>192957178</td>\n",
       "      <td>67</td>\n",
       "      <td>60+</td>\n",
       "      <td>Feminino</td>\n",
       "      <td>Branca</td>\n",
       "      <td>Nordeste</td>\n",
       "      <td>D/E</td>\n",
       "      <td>Viuvo(a)</td>\n",
       "      <td>De R$ 1.321,00 Até R$ 2.640,00</td>\n",
       "      <td>Analfabeto/ Fundamental I incompleto</td>\n",
       "      <td>...</td>\n",
       "      <td>1</td>\n",
       "      <td>1</td>\n",
       "      <td>5</td>\n",
       "      <td>5</td>\n",
       "      <td>1</td>\n",
       "      <td>0</td>\n",
       "      <td>2</td>\n",
       "      <td>0</td>\n",
       "      <td>investidor</td>\n",
       "      <td>0</td>\n",
       "    </tr>\n",
       "    <tr>\n",
       "      <th>2</th>\n",
       "      <td>192958083</td>\n",
       "      <td>44</td>\n",
       "      <td>35-44</td>\n",
       "      <td>Feminino</td>\n",
       "      <td>Preta</td>\n",
       "      <td>Nordeste</td>\n",
       "      <td>C2</td>\n",
       "      <td>Casado(a)/com companheiro(a)</td>\n",
       "      <td>Até R$ 1.320,00</td>\n",
       "      <td>Ensino Médio completo</td>\n",
       "      <td>...</td>\n",
       "      <td>9</td>\n",
       "      <td>5</td>\n",
       "      <td>5</td>\n",
       "      <td>1</td>\n",
       "      <td>1</td>\n",
       "      <td>0</td>\n",
       "      <td>0</td>\n",
       "      <td>0</td>\n",
       "      <td>investidor</td>\n",
       "      <td>0</td>\n",
       "    </tr>\n",
       "    <tr>\n",
       "      <th>3</th>\n",
       "      <td>192958117</td>\n",
       "      <td>35</td>\n",
       "      <td>35-44</td>\n",
       "      <td>Feminino</td>\n",
       "      <td>Parda</td>\n",
       "      <td>Nordeste</td>\n",
       "      <td>D/E</td>\n",
       "      <td>Solteiro (a)</td>\n",
       "      <td>Até R$ 1.320,00</td>\n",
       "      <td>Fundamental I completo/ Fundamental II incompleto</td>\n",
       "      <td>...</td>\n",
       "      <td>9</td>\n",
       "      <td>2</td>\n",
       "      <td>5</td>\n",
       "      <td>5</td>\n",
       "      <td>1</td>\n",
       "      <td>5</td>\n",
       "      <td>0</td>\n",
       "      <td>0</td>\n",
       "      <td>investidor</td>\n",
       "      <td>0</td>\n",
       "    </tr>\n",
       "    <tr>\n",
       "      <th>4</th>\n",
       "      <td>192958632</td>\n",
       "      <td>69</td>\n",
       "      <td>60+</td>\n",
       "      <td>Feminino</td>\n",
       "      <td>Parda</td>\n",
       "      <td>Nordeste</td>\n",
       "      <td>C2</td>\n",
       "      <td>Separado/Divorciado</td>\n",
       "      <td>Recusa</td>\n",
       "      <td>Ensino Médio completo</td>\n",
       "      <td>...</td>\n",
       "      <td>97</td>\n",
       "      <td>5</td>\n",
       "      <td>1</td>\n",
       "      <td>1</td>\n",
       "      <td>1</td>\n",
       "      <td>96</td>\n",
       "      <td>0</td>\n",
       "      <td>0</td>\n",
       "      <td>investidor</td>\n",
       "      <td>0</td>\n",
       "    </tr>\n",
       "    <tr>\n",
       "      <th>...</th>\n",
       "      <td>...</td>\n",
       "      <td>...</td>\n",
       "      <td>...</td>\n",
       "      <td>...</td>\n",
       "      <td>...</td>\n",
       "      <td>...</td>\n",
       "      <td>...</td>\n",
       "      <td>...</td>\n",
       "      <td>...</td>\n",
       "      <td>...</td>\n",
       "      <td>...</td>\n",
       "      <td>...</td>\n",
       "      <td>...</td>\n",
       "      <td>...</td>\n",
       "      <td>...</td>\n",
       "      <td>...</td>\n",
       "      <td>...</td>\n",
       "      <td>...</td>\n",
       "      <td>...</td>\n",
       "      <td>...</td>\n",
       "      <td>...</td>\n",
       "    </tr>\n",
       "    <tr>\n",
       "      <th>5809</th>\n",
       "      <td>193921867</td>\n",
       "      <td>50</td>\n",
       "      <td>45-59</td>\n",
       "      <td>Masculino</td>\n",
       "      <td>Branca</td>\n",
       "      <td>Sul</td>\n",
       "      <td>B2</td>\n",
       "      <td>Solteiro (a)</td>\n",
       "      <td>De R$ 3.961,00 Até R$ 6.600,00</td>\n",
       "      <td>Pós-graduação</td>\n",
       "      <td>...</td>\n",
       "      <td>3</td>\n",
       "      <td>8</td>\n",
       "      <td>2</td>\n",
       "      <td>1</td>\n",
       "      <td>1</td>\n",
       "      <td>8</td>\n",
       "      <td>0</td>\n",
       "      <td>0</td>\n",
       "      <td>investidor</td>\n",
       "      <td>0</td>\n",
       "    </tr>\n",
       "    <tr>\n",
       "      <th>5810</th>\n",
       "      <td>193921868</td>\n",
       "      <td>29</td>\n",
       "      <td>25-34</td>\n",
       "      <td>Feminino</td>\n",
       "      <td>Branca</td>\n",
       "      <td>Sul</td>\n",
       "      <td>B2</td>\n",
       "      <td>Casado(a)/com companheiro(a)</td>\n",
       "      <td>De R$ 2.640,00 Até R$ 3.960,00</td>\n",
       "      <td>Ensino Médio completo</td>\n",
       "      <td>...</td>\n",
       "      <td>2</td>\n",
       "      <td>5</td>\n",
       "      <td>5</td>\n",
       "      <td>2</td>\n",
       "      <td>1</td>\n",
       "      <td>0</td>\n",
       "      <td>1</td>\n",
       "      <td>98</td>\n",
       "      <td>investidor</td>\n",
       "      <td>0</td>\n",
       "    </tr>\n",
       "    <tr>\n",
       "      <th>5811</th>\n",
       "      <td>193921869</td>\n",
       "      <td>28</td>\n",
       "      <td>25-34</td>\n",
       "      <td>Masculino</td>\n",
       "      <td>Parda</td>\n",
       "      <td>Sul</td>\n",
       "      <td>C1</td>\n",
       "      <td>Separado/Divorciado</td>\n",
       "      <td>De R$ 1.321,00 Até R$ 2.640,00</td>\n",
       "      <td>Fundamental I completo/ Fundamental II incompleto</td>\n",
       "      <td>...</td>\n",
       "      <td>1</td>\n",
       "      <td>2</td>\n",
       "      <td>5</td>\n",
       "      <td>4</td>\n",
       "      <td>1</td>\n",
       "      <td>0</td>\n",
       "      <td>1</td>\n",
       "      <td>1</td>\n",
       "      <td>investidor</td>\n",
       "      <td>0</td>\n",
       "    </tr>\n",
       "    <tr>\n",
       "      <th>5812</th>\n",
       "      <td>193925879</td>\n",
       "      <td>54</td>\n",
       "      <td>45-59</td>\n",
       "      <td>Feminino</td>\n",
       "      <td>Branca</td>\n",
       "      <td>Sul</td>\n",
       "      <td>B2</td>\n",
       "      <td>Casado(a)/com companheiro(a)</td>\n",
       "      <td>De R$ 2.640,00 Até R$ 3.960,00</td>\n",
       "      <td>Fundamental II completo</td>\n",
       "      <td>...</td>\n",
       "      <td>2</td>\n",
       "      <td>3</td>\n",
       "      <td>5</td>\n",
       "      <td>1</td>\n",
       "      <td>1</td>\n",
       "      <td>0</td>\n",
       "      <td>2</td>\n",
       "      <td>0</td>\n",
       "      <td>investidor</td>\n",
       "      <td>0</td>\n",
       "    </tr>\n",
       "    <tr>\n",
       "      <th>5813</th>\n",
       "      <td>193925880</td>\n",
       "      <td>67</td>\n",
       "      <td>60+</td>\n",
       "      <td>Masculino</td>\n",
       "      <td>Branca</td>\n",
       "      <td>Sul</td>\n",
       "      <td>C1</td>\n",
       "      <td>Casado(a)/com companheiro(a)</td>\n",
       "      <td>De R$ 1.321,00 Até R$ 2.640,00</td>\n",
       "      <td>Fundamental I completo/ Fundamental II incompleto</td>\n",
       "      <td>...</td>\n",
       "      <td>1</td>\n",
       "      <td>2</td>\n",
       "      <td>1</td>\n",
       "      <td>1</td>\n",
       "      <td>1</td>\n",
       "      <td>0</td>\n",
       "      <td>2</td>\n",
       "      <td>0</td>\n",
       "      <td>investidor</td>\n",
       "      <td>0</td>\n",
       "    </tr>\n",
       "  </tbody>\n",
       "</table>\n",
       "<p>5814 rows × 27 columns</p>\n",
       "</div>"
      ],
      "text/plain": [
       "         nquest  idade1 faixa etária       sexo     cor    REGIAO RCLASSE2  \\\n",
       "0     192956123      54        45-59   Feminino   Preta  Nordeste      D/E   \n",
       "1     192957178      67          60+   Feminino  Branca  Nordeste      D/E   \n",
       "2     192958083      44        35-44   Feminino   Preta  Nordeste       C2   \n",
       "3     192958117      35        35-44   Feminino   Parda  Nordeste      D/E   \n",
       "4     192958632      69          60+   Feminino   Parda  Nordeste       C2   \n",
       "...         ...     ...          ...        ...     ...       ...      ...   \n",
       "5809  193921867      50        45-59  Masculino  Branca       Sul       B2   \n",
       "5810  193921868      29        25-34   Feminino  Branca       Sul       B2   \n",
       "5811  193921869      28        25-34  Masculino   Parda       Sul       C1   \n",
       "5812  193925879      54        45-59   Feminino  Branca       Sul       B2   \n",
       "5813  193925880      67          60+  Masculino  Branca       Sul       C1   \n",
       "\n",
       "                          estcivil                           renda  \\\n",
       "0                         Viuvo(a)                 Até R$ 1.320,00   \n",
       "1                         Viuvo(a)  De R$ 1.321,00 Até R$ 2.640,00   \n",
       "2     Casado(a)/com companheiro(a)                 Até R$ 1.320,00   \n",
       "3                     Solteiro (a)                 Até R$ 1.320,00   \n",
       "4              Separado/Divorciado                          Recusa   \n",
       "...                            ...                             ...   \n",
       "5809                  Solteiro (a)  De R$ 3.961,00 Até R$ 6.600,00   \n",
       "5810  Casado(a)/com companheiro(a)  De R$ 2.640,00 Até R$ 3.960,00   \n",
       "5811           Separado/Divorciado  De R$ 1.321,00 Até R$ 2.640,00   \n",
       "5812  Casado(a)/com companheiro(a)  De R$ 2.640,00 Até R$ 3.960,00   \n",
       "5813  Casado(a)/com companheiro(a)  De R$ 1.321,00 Até R$ 2.640,00   \n",
       "\n",
       "                                                 escola  ...  rendacat  \\\n",
       "0                               Fundamental II completo  ...         9   \n",
       "1                  Analfabeto/ Fundamental I incompleto  ...         1   \n",
       "2                                 Ensino Médio completo  ...         9   \n",
       "3     Fundamental I completo/ Fundamental II incompleto  ...         9   \n",
       "4                                 Ensino Médio completo  ...        97   \n",
       "...                                                 ...  ...       ...   \n",
       "5809                                      Pós-graduação  ...         3   \n",
       "5810                              Ensino Médio completo  ...         2   \n",
       "5811  Fundamental I completo/ Fundamental II incompleto  ...         1   \n",
       "5812                            Fundamental II completo  ...         2   \n",
       "5813  Fundamental I completo/ Fundamental II incompleto  ...         1   \n",
       "\n",
       "     escolacat p64b p64gn p64hn p52aan p55n  p56n      perfil  perfil binário  \n",
       "0            3    5     5     5      0    2     0  investidor               0  \n",
       "1            1    5     5     1      0    2     0  investidor               0  \n",
       "2            5    5     1     1      0    0     0  investidor               0  \n",
       "3            2    5     5     1      5    0     0  investidor               0  \n",
       "4            5    1     1     1     96    0     0  investidor               0  \n",
       "...        ...  ...   ...   ...    ...  ...   ...         ...             ...  \n",
       "5809         8    2     1     1      8    0     0  investidor               0  \n",
       "5810         5    5     2     1      0    1    98  investidor               0  \n",
       "5811         2    5     4     1      0    1     1  investidor               0  \n",
       "5812         3    5     1     1      0    2     0  investidor               0  \n",
       "5813         2    1     1     1      0    2     0  investidor               0  \n",
       "\n",
       "[5814 rows x 27 columns]"
      ]
     },
     "execution_count": 15,
     "metadata": {},
     "output_type": "execute_result"
    }
   ],
   "source": [
    "df_invest"
   ]
  },
  {
   "cell_type": "code",
   "execution_count": 16,
   "metadata": {},
   "outputs": [],
   "source": [
    "df_invest.to_csv('base_final.csv', index=False)"
   ]
  },
  {
   "cell_type": "markdown",
   "metadata": {},
   "source": [
    "## Entendendo os dados"
   ]
  },
  {
   "cell_type": "code",
   "execution_count": 17,
   "metadata": {},
   "outputs": [
    {
     "data": {
      "text/plain": [
       "nquest            0\n",
       "idade1            0\n",
       "faixa etária      0\n",
       "sexo              0\n",
       "cor               0\n",
       "REGIAO            0\n",
       "RCLASSE2          0\n",
       "estcivil          0\n",
       "renda             0\n",
       "escola            0\n",
       "nfilhos           0\n",
       "p52aa             0\n",
       "p55               0\n",
       "p56               0\n",
       "p66               0\n",
       "p64g              0\n",
       "p64h              0\n",
       "rendacat          0\n",
       "escolacat         0\n",
       "p64b              0\n",
       "p64gn             0\n",
       "p64hn             0\n",
       "p52aan            0\n",
       "p55n              0\n",
       "p56n              0\n",
       "perfil            0\n",
       "perfil binário    0\n",
       "dtype: int64"
      ]
     },
     "execution_count": 17,
     "metadata": {},
     "output_type": "execute_result"
    }
   ],
   "source": [
    "df_invest.isnull().sum()"
   ]
  },
  {
   "cell_type": "code",
   "execution_count": 18,
   "metadata": {},
   "outputs": [
    {
     "data": {
      "text/plain": [
       "nquest             int64\n",
       "idade1             int64\n",
       "faixa etária      object\n",
       "sexo              object\n",
       "cor               object\n",
       "REGIAO            object\n",
       "RCLASSE2          object\n",
       "estcivil          object\n",
       "renda             object\n",
       "escola            object\n",
       "nfilhos            int64\n",
       "p52aa             object\n",
       "p55               object\n",
       "p56               object\n",
       "p66               object\n",
       "p64g              object\n",
       "p64h              object\n",
       "rendacat           int64\n",
       "escolacat          int64\n",
       "p64b               int64\n",
       "p64gn              int64\n",
       "p64hn              int64\n",
       "p52aan             int64\n",
       "p55n               int64\n",
       "p56n               int64\n",
       "perfil            object\n",
       "perfil binário    object\n",
       "dtype: object"
      ]
     },
     "execution_count": 18,
     "metadata": {},
     "output_type": "execute_result"
    }
   ],
   "source": [
    "df_invest.dtypes"
   ]
  },
  {
   "cell_type": "code",
   "execution_count": 19,
   "metadata": {},
   "outputs": [
    {
     "data": {
      "text/html": [
       "<div>\n",
       "<style scoped>\n",
       "    .dataframe tbody tr th:only-of-type {\n",
       "        vertical-align: middle;\n",
       "    }\n",
       "\n",
       "    .dataframe tbody tr th {\n",
       "        vertical-align: top;\n",
       "    }\n",
       "\n",
       "    .dataframe thead th {\n",
       "        text-align: right;\n",
       "    }\n",
       "</style>\n",
       "<table border=\"1\" class=\"dataframe\">\n",
       "  <thead>\n",
       "    <tr style=\"text-align: right;\">\n",
       "      <th></th>\n",
       "      <th>count</th>\n",
       "      <th>mean</th>\n",
       "      <th>std</th>\n",
       "      <th>min</th>\n",
       "      <th>25%</th>\n",
       "      <th>50%</th>\n",
       "      <th>75%</th>\n",
       "      <th>max</th>\n",
       "    </tr>\n",
       "  </thead>\n",
       "  <tbody>\n",
       "    <tr>\n",
       "      <th>nquest</th>\n",
       "      <td>5814.0</td>\n",
       "      <td>1.932473e+08</td>\n",
       "      <td>194582.029632</td>\n",
       "      <td>192956123.0</td>\n",
       "      <td>1.930918e+08</td>\n",
       "      <td>193176180.0</td>\n",
       "      <td>1.933947e+08</td>\n",
       "      <td>193925880.0</td>\n",
       "    </tr>\n",
       "    <tr>\n",
       "      <th>idade1</th>\n",
       "      <td>5814.0</td>\n",
       "      <td>4.113158e+01</td>\n",
       "      <td>16.320284</td>\n",
       "      <td>16.0</td>\n",
       "      <td>2.700000e+01</td>\n",
       "      <td>40.0</td>\n",
       "      <td>5.400000e+01</td>\n",
       "      <td>90.0</td>\n",
       "    </tr>\n",
       "    <tr>\n",
       "      <th>nfilhos</th>\n",
       "      <td>5814.0</td>\n",
       "      <td>1.517028e+00</td>\n",
       "      <td>1.626051</td>\n",
       "      <td>0.0</td>\n",
       "      <td>0.000000e+00</td>\n",
       "      <td>1.0</td>\n",
       "      <td>2.000000e+00</td>\n",
       "      <td>10.0</td>\n",
       "    </tr>\n",
       "    <tr>\n",
       "      <th>rendacat</th>\n",
       "      <td>5814.0</td>\n",
       "      <td>9.498280e+00</td>\n",
       "      <td>20.066608</td>\n",
       "      <td>1.0</td>\n",
       "      <td>1.000000e+00</td>\n",
       "      <td>4.0</td>\n",
       "      <td>9.000000e+00</td>\n",
       "      <td>99.0</td>\n",
       "    </tr>\n",
       "    <tr>\n",
       "      <th>escolacat</th>\n",
       "      <td>5814.0</td>\n",
       "      <td>4.400585e+00</td>\n",
       "      <td>1.800569</td>\n",
       "      <td>1.0</td>\n",
       "      <td>3.000000e+00</td>\n",
       "      <td>5.0</td>\n",
       "      <td>5.000000e+00</td>\n",
       "      <td>8.0</td>\n",
       "    </tr>\n",
       "    <tr>\n",
       "      <th>p64b</th>\n",
       "      <td>5814.0</td>\n",
       "      <td>4.543516e+00</td>\n",
       "      <td>4.966679</td>\n",
       "      <td>1.0</td>\n",
       "      <td>4.000000e+00</td>\n",
       "      <td>5.0</td>\n",
       "      <td>5.000000e+00</td>\n",
       "      <td>99.0</td>\n",
       "    </tr>\n",
       "    <tr>\n",
       "      <th>p64gn</th>\n",
       "      <td>5814.0</td>\n",
       "      <td>2.767458e+00</td>\n",
       "      <td>6.651658</td>\n",
       "      <td>1.0</td>\n",
       "      <td>1.000000e+00</td>\n",
       "      <td>1.0</td>\n",
       "      <td>4.000000e+00</td>\n",
       "      <td>99.0</td>\n",
       "    </tr>\n",
       "    <tr>\n",
       "      <th>p64hn</th>\n",
       "      <td>5814.0</td>\n",
       "      <td>2.424321e+00</td>\n",
       "      <td>4.699616</td>\n",
       "      <td>1.0</td>\n",
       "      <td>1.000000e+00</td>\n",
       "      <td>1.0</td>\n",
       "      <td>4.000000e+00</td>\n",
       "      <td>99.0</td>\n",
       "    </tr>\n",
       "    <tr>\n",
       "      <th>p52aan</th>\n",
       "      <td>5814.0</td>\n",
       "      <td>4.602683e+00</td>\n",
       "      <td>17.895737</td>\n",
       "      <td>0.0</td>\n",
       "      <td>0.000000e+00</td>\n",
       "      <td>0.0</td>\n",
       "      <td>1.000000e+00</td>\n",
       "      <td>99.0</td>\n",
       "    </tr>\n",
       "    <tr>\n",
       "      <th>p55n</th>\n",
       "      <td>5814.0</td>\n",
       "      <td>9.898521e-01</td>\n",
       "      <td>0.916279</td>\n",
       "      <td>0.0</td>\n",
       "      <td>0.000000e+00</td>\n",
       "      <td>1.0</td>\n",
       "      <td>2.000000e+00</td>\n",
       "      <td>2.0</td>\n",
       "    </tr>\n",
       "    <tr>\n",
       "      <th>p56n</th>\n",
       "      <td>5814.0</td>\n",
       "      <td>1.657723e+00</td>\n",
       "      <td>8.073408</td>\n",
       "      <td>0.0</td>\n",
       "      <td>0.000000e+00</td>\n",
       "      <td>0.0</td>\n",
       "      <td>0.000000e+00</td>\n",
       "      <td>99.0</td>\n",
       "    </tr>\n",
       "  </tbody>\n",
       "</table>\n",
       "</div>"
      ],
      "text/plain": [
       "            count          mean            std          min           25%  \\\n",
       "nquest     5814.0  1.932473e+08  194582.029632  192956123.0  1.930918e+08   \n",
       "idade1     5814.0  4.113158e+01      16.320284         16.0  2.700000e+01   \n",
       "nfilhos    5814.0  1.517028e+00       1.626051          0.0  0.000000e+00   \n",
       "rendacat   5814.0  9.498280e+00      20.066608          1.0  1.000000e+00   \n",
       "escolacat  5814.0  4.400585e+00       1.800569          1.0  3.000000e+00   \n",
       "p64b       5814.0  4.543516e+00       4.966679          1.0  4.000000e+00   \n",
       "p64gn      5814.0  2.767458e+00       6.651658          1.0  1.000000e+00   \n",
       "p64hn      5814.0  2.424321e+00       4.699616          1.0  1.000000e+00   \n",
       "p52aan     5814.0  4.602683e+00      17.895737          0.0  0.000000e+00   \n",
       "p55n       5814.0  9.898521e-01       0.916279          0.0  0.000000e+00   \n",
       "p56n       5814.0  1.657723e+00       8.073408          0.0  0.000000e+00   \n",
       "\n",
       "                   50%           75%          max  \n",
       "nquest     193176180.0  1.933947e+08  193925880.0  \n",
       "idade1            40.0  5.400000e+01         90.0  \n",
       "nfilhos            1.0  2.000000e+00         10.0  \n",
       "rendacat           4.0  9.000000e+00         99.0  \n",
       "escolacat          5.0  5.000000e+00          8.0  \n",
       "p64b               5.0  5.000000e+00         99.0  \n",
       "p64gn              1.0  4.000000e+00         99.0  \n",
       "p64hn              1.0  4.000000e+00         99.0  \n",
       "p52aan             0.0  1.000000e+00         99.0  \n",
       "p55n               1.0  2.000000e+00          2.0  \n",
       "p56n               0.0  0.000000e+00         99.0  "
      ]
     },
     "execution_count": 19,
     "metadata": {},
     "output_type": "execute_result"
    }
   ],
   "source": [
    "df_invest.describe().T"
   ]
  },
  {
   "cell_type": "code",
   "execution_count": 20,
   "metadata": {},
   "outputs": [
    {
     "name": "stdout",
     "output_type": "stream",
     "text": [
      "<class 'pandas.core.frame.DataFrame'>\n",
      "Index: 5611 entries, 0 to 5813\n",
      "Data columns (total 27 columns):\n",
      " #   Column          Non-Null Count  Dtype \n",
      "---  ------          --------------  ----- \n",
      " 0   nquest          5611 non-null   int64 \n",
      " 1   idade1          5611 non-null   int64 \n",
      " 2   faixa etária    5611 non-null   object\n",
      " 3   sexo            5611 non-null   object\n",
      " 4   cor             5611 non-null   object\n",
      " 5   REGIAO          5611 non-null   object\n",
      " 6   RCLASSE2        5611 non-null   object\n",
      " 7   estcivil        5611 non-null   object\n",
      " 8   renda           5611 non-null   object\n",
      " 9   escola          5611 non-null   object\n",
      " 10  nfilhos         5611 non-null   int64 \n",
      " 11  p52aa           5611 non-null   object\n",
      " 12  p55             5611 non-null   object\n",
      " 13  p56             5611 non-null   object\n",
      " 14  p66             5611 non-null   object\n",
      " 15  p64g            5611 non-null   object\n",
      " 16  p64h            5611 non-null   object\n",
      " 17  rendacat        5611 non-null   int64 \n",
      " 18  escolacat       5611 non-null   int64 \n",
      " 19  p64b            5611 non-null   int64 \n",
      " 20  p64gn           5611 non-null   int64 \n",
      " 21  p64hn           5611 non-null   int64 \n",
      " 22  p52aan          5611 non-null   int64 \n",
      " 23  p55n            5611 non-null   int64 \n",
      " 24  p56n            5611 non-null   int64 \n",
      " 25  perfil          5611 non-null   object\n",
      " 26  perfil binário  5611 non-null   object\n",
      "dtypes: int64(11), object(16)\n",
      "memory usage: 1.2+ MB\n"
     ]
    }
   ],
   "source": [
    "investidores = df_invest[df_invest['perfil binário'] == '0']\n",
    "investidores.info()"
   ]
  },
  {
   "cell_type": "code",
   "execution_count": 21,
   "metadata": {},
   "outputs": [
    {
     "data": {
      "text/html": [
       "<div>\n",
       "<style scoped>\n",
       "    .dataframe tbody tr th:only-of-type {\n",
       "        vertical-align: middle;\n",
       "    }\n",
       "\n",
       "    .dataframe tbody tr th {\n",
       "        vertical-align: top;\n",
       "    }\n",
       "\n",
       "    .dataframe thead th {\n",
       "        text-align: right;\n",
       "    }\n",
       "</style>\n",
       "<table border=\"1\" class=\"dataframe\">\n",
       "  <thead>\n",
       "    <tr style=\"text-align: right;\">\n",
       "      <th></th>\n",
       "      <th>nquest</th>\n",
       "      <th>idade1</th>\n",
       "      <th>faixa etária</th>\n",
       "      <th>sexo</th>\n",
       "      <th>cor</th>\n",
       "      <th>REGIAO</th>\n",
       "      <th>RCLASSE2</th>\n",
       "      <th>estcivil</th>\n",
       "      <th>renda</th>\n",
       "      <th>escola</th>\n",
       "      <th>...</th>\n",
       "      <th>rendacat</th>\n",
       "      <th>escolacat</th>\n",
       "      <th>p64b</th>\n",
       "      <th>p64gn</th>\n",
       "      <th>p64hn</th>\n",
       "      <th>p52aan</th>\n",
       "      <th>p55n</th>\n",
       "      <th>p56n</th>\n",
       "      <th>perfil</th>\n",
       "      <th>perfil binário</th>\n",
       "    </tr>\n",
       "  </thead>\n",
       "  <tbody>\n",
       "    <tr>\n",
       "      <th>43</th>\n",
       "      <td>192963673</td>\n",
       "      <td>20</td>\n",
       "      <td>16-24</td>\n",
       "      <td>Masculino</td>\n",
       "      <td>Outras</td>\n",
       "      <td>Nordeste</td>\n",
       "      <td>B2</td>\n",
       "      <td>Solteiro (a)</td>\n",
       "      <td>De R$ 1.321,00 Até R$ 2.640,00</td>\n",
       "      <td>Ensino Médio completo</td>\n",
       "      <td>...</td>\n",
       "      <td>1</td>\n",
       "      <td>5</td>\n",
       "      <td>5</td>\n",
       "      <td>1</td>\n",
       "      <td>1</td>\n",
       "      <td>0</td>\n",
       "      <td>1</td>\n",
       "      <td>3</td>\n",
       "      <td>apostador</td>\n",
       "      <td>1</td>\n",
       "    </tr>\n",
       "    <tr>\n",
       "      <th>74</th>\n",
       "      <td>192967196</td>\n",
       "      <td>48</td>\n",
       "      <td>45-59</td>\n",
       "      <td>Masculino</td>\n",
       "      <td>Parda</td>\n",
       "      <td>Sudeste</td>\n",
       "      <td>C2</td>\n",
       "      <td>Casado(a)/com companheiro(a)</td>\n",
       "      <td>Até R$ 1.320,00</td>\n",
       "      <td>Fundamental II completo</td>\n",
       "      <td>...</td>\n",
       "      <td>9</td>\n",
       "      <td>3</td>\n",
       "      <td>5</td>\n",
       "      <td>5</td>\n",
       "      <td>1</td>\n",
       "      <td>0</td>\n",
       "      <td>1</td>\n",
       "      <td>3</td>\n",
       "      <td>apostador</td>\n",
       "      <td>1</td>\n",
       "    </tr>\n",
       "    <tr>\n",
       "      <th>76</th>\n",
       "      <td>192967724</td>\n",
       "      <td>54</td>\n",
       "      <td>45-59</td>\n",
       "      <td>Feminino</td>\n",
       "      <td>Branca</td>\n",
       "      <td>Nordeste</td>\n",
       "      <td>D/E</td>\n",
       "      <td>Viuvo(a)</td>\n",
       "      <td>Até R$ 1.320,00</td>\n",
       "      <td>Ensino Médio incompleto</td>\n",
       "      <td>...</td>\n",
       "      <td>9</td>\n",
       "      <td>4</td>\n",
       "      <td>5</td>\n",
       "      <td>4</td>\n",
       "      <td>4</td>\n",
       "      <td>0</td>\n",
       "      <td>2</td>\n",
       "      <td>0</td>\n",
       "      <td>apostador</td>\n",
       "      <td>1</td>\n",
       "    </tr>\n",
       "    <tr>\n",
       "      <th>87</th>\n",
       "      <td>192969677</td>\n",
       "      <td>29</td>\n",
       "      <td>25-34</td>\n",
       "      <td>Masculino</td>\n",
       "      <td>Parda</td>\n",
       "      <td>Nordeste</td>\n",
       "      <td>B2</td>\n",
       "      <td>Separado/Divorciado</td>\n",
       "      <td>De R$ 2.640,00 Até R$ 3.960,00</td>\n",
       "      <td>Ensino Médio completo</td>\n",
       "      <td>...</td>\n",
       "      <td>2</td>\n",
       "      <td>5</td>\n",
       "      <td>5</td>\n",
       "      <td>5</td>\n",
       "      <td>5</td>\n",
       "      <td>0</td>\n",
       "      <td>2</td>\n",
       "      <td>0</td>\n",
       "      <td>apostador</td>\n",
       "      <td>1</td>\n",
       "    </tr>\n",
       "    <tr>\n",
       "      <th>92</th>\n",
       "      <td>192970503</td>\n",
       "      <td>30</td>\n",
       "      <td>25-34</td>\n",
       "      <td>Masculino</td>\n",
       "      <td>Preta</td>\n",
       "      <td>Sudeste</td>\n",
       "      <td>C1</td>\n",
       "      <td>Solteiro (a)</td>\n",
       "      <td>De R$ 3.961,00 Até R$ 6.600,00</td>\n",
       "      <td>Ensino Médio completo</td>\n",
       "      <td>...</td>\n",
       "      <td>3</td>\n",
       "      <td>5</td>\n",
       "      <td>5</td>\n",
       "      <td>4</td>\n",
       "      <td>5</td>\n",
       "      <td>2</td>\n",
       "      <td>0</td>\n",
       "      <td>0</td>\n",
       "      <td>apostador</td>\n",
       "      <td>1</td>\n",
       "    </tr>\n",
       "    <tr>\n",
       "      <th>...</th>\n",
       "      <td>...</td>\n",
       "      <td>...</td>\n",
       "      <td>...</td>\n",
       "      <td>...</td>\n",
       "      <td>...</td>\n",
       "      <td>...</td>\n",
       "      <td>...</td>\n",
       "      <td>...</td>\n",
       "      <td>...</td>\n",
       "      <td>...</td>\n",
       "      <td>...</td>\n",
       "      <td>...</td>\n",
       "      <td>...</td>\n",
       "      <td>...</td>\n",
       "      <td>...</td>\n",
       "      <td>...</td>\n",
       "      <td>...</td>\n",
       "      <td>...</td>\n",
       "      <td>...</td>\n",
       "      <td>...</td>\n",
       "      <td>...</td>\n",
       "    </tr>\n",
       "    <tr>\n",
       "      <th>5726</th>\n",
       "      <td>193724175</td>\n",
       "      <td>26</td>\n",
       "      <td>25-34</td>\n",
       "      <td>Masculino</td>\n",
       "      <td>Preta</td>\n",
       "      <td>Sul</td>\n",
       "      <td>D/E</td>\n",
       "      <td>Solteiro (a)</td>\n",
       "      <td>De R$ 1.321,00 Até R$ 2.640,00</td>\n",
       "      <td>Fundamental I completo/ Fundamental II incompleto</td>\n",
       "      <td>...</td>\n",
       "      <td>1</td>\n",
       "      <td>2</td>\n",
       "      <td>5</td>\n",
       "      <td>1</td>\n",
       "      <td>4</td>\n",
       "      <td>0</td>\n",
       "      <td>2</td>\n",
       "      <td>0</td>\n",
       "      <td>apostador</td>\n",
       "      <td>1</td>\n",
       "    </tr>\n",
       "    <tr>\n",
       "      <th>5737</th>\n",
       "      <td>193768542</td>\n",
       "      <td>44</td>\n",
       "      <td>35-44</td>\n",
       "      <td>Masculino</td>\n",
       "      <td>Preta</td>\n",
       "      <td>Sul</td>\n",
       "      <td>C1</td>\n",
       "      <td>Casado(a)/com companheiro(a)</td>\n",
       "      <td>Até R$ 1.320,00</td>\n",
       "      <td>Fundamental II completo</td>\n",
       "      <td>...</td>\n",
       "      <td>9</td>\n",
       "      <td>3</td>\n",
       "      <td>5</td>\n",
       "      <td>5</td>\n",
       "      <td>5</td>\n",
       "      <td>0</td>\n",
       "      <td>2</td>\n",
       "      <td>0</td>\n",
       "      <td>apostador</td>\n",
       "      <td>1</td>\n",
       "    </tr>\n",
       "    <tr>\n",
       "      <th>5777</th>\n",
       "      <td>193857823</td>\n",
       "      <td>17</td>\n",
       "      <td>16-24</td>\n",
       "      <td>Masculino</td>\n",
       "      <td>Parda</td>\n",
       "      <td>Sul</td>\n",
       "      <td>C1</td>\n",
       "      <td>Solteiro (a)</td>\n",
       "      <td>Até R$ 1.320,00</td>\n",
       "      <td>Ensino Médio incompleto</td>\n",
       "      <td>...</td>\n",
       "      <td>9</td>\n",
       "      <td>4</td>\n",
       "      <td>5</td>\n",
       "      <td>1</td>\n",
       "      <td>1</td>\n",
       "      <td>0</td>\n",
       "      <td>1</td>\n",
       "      <td>12</td>\n",
       "      <td>apostador</td>\n",
       "      <td>1</td>\n",
       "    </tr>\n",
       "    <tr>\n",
       "      <th>5798</th>\n",
       "      <td>193874109</td>\n",
       "      <td>25</td>\n",
       "      <td>25-34</td>\n",
       "      <td>Masculino</td>\n",
       "      <td>Branca</td>\n",
       "      <td>Sul</td>\n",
       "      <td>B2</td>\n",
       "      <td>Casado(a)/com companheiro(a)</td>\n",
       "      <td>De R$ 1.321,00 Até R$ 2.640,00</td>\n",
       "      <td>Ensino Médio completo</td>\n",
       "      <td>...</td>\n",
       "      <td>1</td>\n",
       "      <td>5</td>\n",
       "      <td>5</td>\n",
       "      <td>1</td>\n",
       "      <td>5</td>\n",
       "      <td>1</td>\n",
       "      <td>0</td>\n",
       "      <td>0</td>\n",
       "      <td>apostador</td>\n",
       "      <td>1</td>\n",
       "    </tr>\n",
       "    <tr>\n",
       "      <th>5807</th>\n",
       "      <td>193913141</td>\n",
       "      <td>32</td>\n",
       "      <td>25-34</td>\n",
       "      <td>Masculino</td>\n",
       "      <td>Branca</td>\n",
       "      <td>Sul</td>\n",
       "      <td>B2</td>\n",
       "      <td>Separado/Divorciado</td>\n",
       "      <td>De R$ 6.601,00 Até R$ 13.200,00</td>\n",
       "      <td>Pós-graduação</td>\n",
       "      <td>...</td>\n",
       "      <td>4</td>\n",
       "      <td>8</td>\n",
       "      <td>4</td>\n",
       "      <td>1</td>\n",
       "      <td>1</td>\n",
       "      <td>2</td>\n",
       "      <td>0</td>\n",
       "      <td>0</td>\n",
       "      <td>apostador</td>\n",
       "      <td>1</td>\n",
       "    </tr>\n",
       "  </tbody>\n",
       "</table>\n",
       "<p>203 rows × 27 columns</p>\n",
       "</div>"
      ],
      "text/plain": [
       "         nquest  idade1 faixa etária       sexo     cor    REGIAO RCLASSE2  \\\n",
       "43    192963673      20        16-24  Masculino  Outras  Nordeste       B2   \n",
       "74    192967196      48        45-59  Masculino   Parda   Sudeste       C2   \n",
       "76    192967724      54        45-59   Feminino  Branca  Nordeste      D/E   \n",
       "87    192969677      29        25-34  Masculino   Parda  Nordeste       B2   \n",
       "92    192970503      30        25-34  Masculino   Preta   Sudeste       C1   \n",
       "...         ...     ...          ...        ...     ...       ...      ...   \n",
       "5726  193724175      26        25-34  Masculino   Preta       Sul      D/E   \n",
       "5737  193768542      44        35-44  Masculino   Preta       Sul       C1   \n",
       "5777  193857823      17        16-24  Masculino   Parda       Sul       C1   \n",
       "5798  193874109      25        25-34  Masculino  Branca       Sul       B2   \n",
       "5807  193913141      32        25-34  Masculino  Branca       Sul       B2   \n",
       "\n",
       "                          estcivil                            renda  \\\n",
       "43                    Solteiro (a)   De R$ 1.321,00 Até R$ 2.640,00   \n",
       "74    Casado(a)/com companheiro(a)                  Até R$ 1.320,00   \n",
       "76                        Viuvo(a)                  Até R$ 1.320,00   \n",
       "87             Separado/Divorciado   De R$ 2.640,00 Até R$ 3.960,00   \n",
       "92                    Solteiro (a)   De R$ 3.961,00 Até R$ 6.600,00   \n",
       "...                            ...                              ...   \n",
       "5726                  Solteiro (a)   De R$ 1.321,00 Até R$ 2.640,00   \n",
       "5737  Casado(a)/com companheiro(a)                  Até R$ 1.320,00   \n",
       "5777                  Solteiro (a)                  Até R$ 1.320,00   \n",
       "5798  Casado(a)/com companheiro(a)   De R$ 1.321,00 Até R$ 2.640,00   \n",
       "5807           Separado/Divorciado  De R$ 6.601,00 Até R$ 13.200,00   \n",
       "\n",
       "                                                 escola  ...  rendacat  \\\n",
       "43                                Ensino Médio completo  ...         1   \n",
       "74                              Fundamental II completo  ...         9   \n",
       "76                              Ensino Médio incompleto  ...         9   \n",
       "87                                Ensino Médio completo  ...         2   \n",
       "92                                Ensino Médio completo  ...         3   \n",
       "...                                                 ...  ...       ...   \n",
       "5726  Fundamental I completo/ Fundamental II incompleto  ...         1   \n",
       "5737                            Fundamental II completo  ...         9   \n",
       "5777                            Ensino Médio incompleto  ...         9   \n",
       "5798                              Ensino Médio completo  ...         1   \n",
       "5807                                      Pós-graduação  ...         4   \n",
       "\n",
       "     escolacat p64b p64gn p64hn p52aan p55n  p56n     perfil  perfil binário  \n",
       "43           5    5     1     1      0    1     3  apostador               1  \n",
       "74           3    5     5     1      0    1     3  apostador               1  \n",
       "76           4    5     4     4      0    2     0  apostador               1  \n",
       "87           5    5     5     5      0    2     0  apostador               1  \n",
       "92           5    5     4     5      2    0     0  apostador               1  \n",
       "...        ...  ...   ...   ...    ...  ...   ...        ...             ...  \n",
       "5726         2    5     1     4      0    2     0  apostador               1  \n",
       "5737         3    5     5     5      0    2     0  apostador               1  \n",
       "5777         4    5     1     1      0    1    12  apostador               1  \n",
       "5798         5    5     1     5      1    0     0  apostador               1  \n",
       "5807         8    4     1     1      2    0     0  apostador               1  \n",
       "\n",
       "[203 rows x 27 columns]"
      ]
     },
     "execution_count": 21,
     "metadata": {},
     "output_type": "execute_result"
    }
   ],
   "source": [
    "apostadores = df_invest[df_invest['perfil binário'] == '1']\n",
    "apostadores"
   ]
  },
  {
   "cell_type": "code",
   "execution_count": 22,
   "metadata": {},
   "outputs": [],
   "source": [
    "apostadores.to_csv('base_final_apostadores.csv', index=False)"
   ]
  },
  {
   "cell_type": "markdown",
   "metadata": {},
   "source": [
    "## Análise do Perfil"
   ]
  },
  {
   "cell_type": "markdown",
   "metadata": {},
   "source": [
    "### idade"
   ]
  },
  {
   "cell_type": "code",
   "execution_count": 23,
   "metadata": {},
   "outputs": [
    {
     "name": "stderr",
     "output_type": "stream",
     "text": [
      "/var/folders/qh/0y24swzd4_z3zrrk6dvrgvqh0000gn/T/ipykernel_40020/135584473.py:5: UserWarning: The palette list has more values (12) than needed (5), which may not be intended.\n",
      "  sns.countplot(data = apostadores,\n"
     ]
    },
    {
     "data": {
      "image/png": "[encoded data removed]",
      "text/plain": [
       "<Figure size 1000x600 with 1 Axes>"
      ]
     },
     "metadata": {},
     "output_type": "display_data"
    }
   ],
   "source": [
    "# definir tamanho da figura\n",
    "plt.figure(figsize=(10, 6))\n",
    "cores = ['#fa7f51', '#d88f73', '#b69e95', '#51cdfa', '#95aeb6', '#73bdd8','#fe9f51', '#e99f73', '#c98e95', '#72beda', '#95cec9', '#85fdd8' ]\n",
    "\n",
    "sns.countplot(data = apostadores,\n",
    "              x = 'perfil', \n",
    "              hue = 'faixa etária',\n",
    "              palette = cores,\n",
    "              legend = True)\n",
    "\n",
    "# definir texto do título e eixos x e y\n",
    "\n",
    "plt.title('Faixa etária')\n",
    "plt.xlabel('Faixa etária')\n",
    "plt.ylabel('Contagem')\n",
    "\n",
    "# plotar e definir texto da legenda\n",
    "plt.legend(title = 'Faixa etária')\n",
    "\n",
    "plt.show()"
   ]
  },
  {
   "cell_type": "code",
   "execution_count": 24,
   "metadata": {},
   "outputs": [
    {
     "data": {
      "text/plain": [
       "faixa etária\n",
       "16-24    0.354680\n",
       "25-34    0.330049\n",
       "35-44    0.216749\n",
       "45-59    0.073892\n",
       "60+      0.024631\n",
       "Name: proportion, dtype: float64"
      ]
     },
     "execution_count": 24,
     "metadata": {},
     "output_type": "execute_result"
    }
   ],
   "source": [
    "apostadores['faixa etária'].value_counts(normalize = True)"
   ]
  },
  {
   "cell_type": "markdown",
   "metadata": {},
   "source": [
    "### renda"
   ]
  },
  {
   "cell_type": "code",
   "execution_count": 25,
   "metadata": {},
   "outputs": [
    {
     "data": {
      "text/plain": [
       "renda\n",
       "Até R$ 1.320,00                     0.305419\n",
       "De R$ 1.321,00 Até R$ 2.640,00      0.295567\n",
       "De R$ 2.640,00 Até R$ 3.960,00      0.192118\n",
       "De R$ 3.961,00 Até R$ 6.600,00      0.103448\n",
       "De R$ 6.601,00 Até R$ 13.200,00     0.039409\n",
       "Não sabe                            0.024631\n",
       "De R$ 13.201,00 Até R$ 26.400,00    0.019704\n",
       "Recusa                              0.014778\n",
       "R$ 66.001,00 ou mais                0.004926\n",
       "Name: proportion, dtype: float64"
      ]
     },
     "execution_count": 25,
     "metadata": {},
     "output_type": "execute_result"
    }
   ],
   "source": [
    "apostadores['renda'].value_counts(normalize=True)"
   ]
  },
  {
   "cell_type": "code",
   "execution_count": 26,
   "metadata": {},
   "outputs": [
    {
     "name": "stderr",
     "output_type": "stream",
     "text": [
      "/var/folders/qh/0y24swzd4_z3zrrk6dvrgvqh0000gn/T/ipykernel_40020/4185214137.py:4: UserWarning: The palette list has more values (12) than needed (9), which may not be intended.\n",
      "  sns.countplot(data = apostadores,\n"
     ]
    },
    {
     "data": {
      "image/png": "[encoded data removed]",
      "text/plain": [
       "<Figure size 1000x600 with 1 Axes>"
      ]
     },
     "metadata": {},
     "output_type": "display_data"
    }
   ],
   "source": [
    "# definir tamanho da figura\n",
    "plt.figure(figsize=(10, 6))\n",
    "\n",
    "sns.countplot(data = apostadores,\n",
    "              x = 'perfil', \n",
    "              hue = 'renda',\n",
    "              palette = cores,\n",
    "              legend = True)\n",
    "\n",
    "# definir texto do título e eixos x e y\n",
    "\n",
    "plt.title('Renda dos Apostadores')\n",
    "plt.xlabel('Renda')\n",
    "plt.ylabel('Contagem')\n",
    "\n",
    "# plotar e definir texto da legenda\n",
    "plt.legend(title = 'Renda dos Apostadores')\n",
    "\n",
    "plt.show()"
   ]
  },
  {
   "cell_type": "markdown",
   "metadata": {},
   "source": [
    "### Classe social "
   ]
  },
  {
   "cell_type": "code",
   "execution_count": 27,
   "metadata": {},
   "outputs": [
    {
     "data": {
      "text/plain": [
       "RCLASSE2\n",
       "C2     0.251232\n",
       "B2     0.221675\n",
       "C1     0.201970\n",
       "D/E    0.187192\n",
       "A      0.068966\n",
       "B1     0.068966\n",
       "Name: proportion, dtype: float64"
      ]
     },
     "execution_count": 27,
     "metadata": {},
     "output_type": "execute_result"
    }
   ],
   "source": [
    "apostadores['RCLASSE2'].value_counts(normalize=True)"
   ]
  },
  {
   "cell_type": "code",
   "execution_count": 28,
   "metadata": {},
   "outputs": [
    {
     "name": "stderr",
     "output_type": "stream",
     "text": [
      "/var/folders/qh/0y24swzd4_z3zrrk6dvrgvqh0000gn/T/ipykernel_40020/3173920380.py:5: UserWarning: The palette list has more values (12) than needed (6), which may not be intended.\n",
      "  sns.countplot(data = apostadores,\n"
     ]
    },
    {
     "data": {
      "image/png": "[encoded data removed]",
      "text/plain": [
       "<Figure size 1000x600 with 1 Axes>"
      ]
     },
     "metadata": {},
     "output_type": "display_data"
    }
   ],
   "source": [
    "# definir tamanho da figura\n",
    "plt.figure(figsize=(10, 6))\n",
    "\n",
    "\n",
    "sns.countplot(data = apostadores,\n",
    "              x = 'perfil', \n",
    "              hue = 'RCLASSE2',\n",
    "              palette = cores,\n",
    "              legend = True)\n",
    "\n",
    "# definir texto do título e eixos x e y\n",
    "\n",
    "plt.title('Classe Social')\n",
    "plt.xlabel('Classe Social')\n",
    "plt.ylabel('Contagem')\n",
    "\n",
    "# plotar e definir texto da legenda\n",
    "plt.legend(title = 'Faixa etária')\n",
    "\n",
    "plt.show()"
   ]
  },
  {
   "cell_type": "markdown",
   "metadata": {},
   "source": [
    "### genero "
   ]
  },
  {
   "cell_type": "code",
   "execution_count": 49,
   "metadata": {},
   "outputs": [
    {
     "data": {
      "text/plain": [
       "sexo\n",
       "Masculino    0.753695\n",
       "Feminino     0.246305\n",
       "Name: proportion, dtype: float64"
      ]
     },
     "execution_count": 49,
     "metadata": {},
     "output_type": "execute_result"
    }
   ],
   "source": [
    "apostadores['sexo'].value_counts(normalize=True)\n"
   ]
  },
  {
   "cell_type": "code",
   "execution_count": 30,
   "metadata": {},
   "outputs": [
    {
     "data": {
      "image/png": "[encoded data removed]",
      "text/plain": [
       "<Figure size 1000x600 with 1 Axes>"
      ]
     },
     "metadata": {},
     "output_type": "display_data"
    }
   ],
   "source": [
    "# definir tamanho da figura\n",
    "plt.figure(figsize=(10, 6))\n",
    "colores = ['#51cdfa', '#d88f73']\n",
    "\n",
    "sns.countplot(data = apostadores,\n",
    "              x = 'perfil', \n",
    "              hue = 'sexo',\n",
    "              palette = colores)\n",
    "\n",
    "# definir texto do título e eixos x e y\n",
    "\n",
    "plt.title('Gênero')\n",
    "plt.xlabel('Gênero')\n",
    "plt.ylabel('Contagem')\n",
    "\n",
    "# plotar e definir texto da legenda\n",
    "plt.legend(title = 'Gênero')\n",
    "\n",
    "plt.show()"
   ]
  },
  {
   "cell_type": "markdown",
   "metadata": {},
   "source": [
    "### regiao "
   ]
  },
  {
   "cell_type": "code",
   "execution_count": 50,
   "metadata": {},
   "outputs": [
    {
     "data": {
      "text/plain": [
       "REGIAO\n",
       "Sudeste         0.413793\n",
       "Nordeste        0.344828\n",
       "Sul             0.118227\n",
       "Norte           0.083744\n",
       "Centro Oeste    0.039409\n",
       "Name: proportion, dtype: float64"
      ]
     },
     "execution_count": 50,
     "metadata": {},
     "output_type": "execute_result"
    }
   ],
   "source": [
    "apostadores['REGIAO'].value_counts(normalize=True)"
   ]
  },
  {
   "cell_type": "code",
   "execution_count": 32,
   "metadata": {},
   "outputs": [
    {
     "name": "stderr",
     "output_type": "stream",
     "text": [
      "/var/folders/qh/0y24swzd4_z3zrrk6dvrgvqh0000gn/T/ipykernel_40020/1465645378.py:5: UserWarning: The palette list has more values (12) than needed (5), which may not be intended.\n",
      "  sns.countplot(data = apostadores,\n"
     ]
    },
    {
     "data": {
      "image/png": "[encoded data removed]",
      "text/plain": [
       "<Figure size 1000x600 with 1 Axes>"
      ]
     },
     "metadata": {},
     "output_type": "display_data"
    }
   ],
   "source": [
    "# definir tamanho da figura\n",
    "plt.figure(figsize=(10, 6))\n",
    "\n",
    "\n",
    "sns.countplot(data = apostadores,\n",
    "              x = 'perfil', \n",
    "              hue = 'REGIAO',\n",
    "              palette = cores)\n",
    "\n",
    "# definir texto do título e eixos x e y\n",
    "\n",
    "plt.title('Perfil por Região')\n",
    "plt.xlabel('Região')\n",
    "plt.ylabel('Contagem')\n",
    "\n",
    "# plotar e definir texto da legenda\n",
    "plt.legend(title = 'Região do País')\n",
    "\n",
    "plt.show()"
   ]
  },
  {
   "cell_type": "markdown",
   "metadata": {},
   "source": [
    "### Escolaridade "
   ]
  },
  {
   "cell_type": "code",
   "execution_count": 51,
   "metadata": {},
   "outputs": [
    {
     "data": {
      "text/plain": [
       "escola\n",
       "Ensino Médio completo                                0.492611\n",
       "Ensino Médio incompleto                              0.211823\n",
       "Fundamental I completo/ Fundamental II incompleto    0.083744\n",
       "Superior incompleto                                  0.078818\n",
       "Superior completo                                    0.054187\n",
       "Fundamental II completo                              0.034483\n",
       "Pós-graduação                                        0.029557\n",
       "Analfabeto/ Fundamental I incompleto                 0.014778\n",
       "Name: proportion, dtype: float64"
      ]
     },
     "execution_count": 51,
     "metadata": {},
     "output_type": "execute_result"
    }
   ],
   "source": [
    "apostadores['escola'].value_counts(normalize=True)\n"
   ]
  },
  {
   "cell_type": "code",
   "execution_count": 34,
   "metadata": {},
   "outputs": [
    {
     "name": "stderr",
     "output_type": "stream",
     "text": [
      "/var/folders/qh/0y24swzd4_z3zrrk6dvrgvqh0000gn/T/ipykernel_40020/3825365208.py:5: UserWarning: The palette list has more values (12) than needed (8), which may not be intended.\n",
      "  sns.countplot(data = apostadores,\n"
     ]
    },
    {
     "data": {
      "image/png": "[encoded data removed]",
      "text/plain": [
       "<Figure size 1000x600 with 1 Axes>"
      ]
     },
     "metadata": {},
     "output_type": "display_data"
    }
   ],
   "source": [
    "# definir tamanho da figura\n",
    "plt.figure(figsize=(10, 6))\n",
    "\n",
    "\n",
    "sns.countplot(data = apostadores,\n",
    "              x = 'perfil', \n",
    "              hue = 'escola',\n",
    "              palette = cores)\n",
    "\n",
    "# definir texto do título e eixos x e y\n",
    "\n",
    "plt.title('Nível de Escolaridade')\n",
    "plt.xlabel('Escolaridade')\n",
    "plt.ylabel('Contagem')\n",
    "\n",
    "# plotar e definir texto da legenda\n",
    "plt.legend(title = 'Escolaridade')\n",
    "\n",
    "plt.show()"
   ]
  },
  {
   "cell_type": "markdown",
   "metadata": {},
   "source": [
    "### Raça"
   ]
  },
  {
   "cell_type": "code",
   "execution_count": 35,
   "metadata": {},
   "outputs": [
    {
     "name": "stderr",
     "output_type": "stream",
     "text": [
      "/var/folders/qh/0y24swzd4_z3zrrk6dvrgvqh0000gn/T/ipykernel_40020/2392829255.py:5: UserWarning: The palette list has more values (12) than needed (6), which may not be intended.\n",
      "  sns.countplot(data = apostadores,\n"
     ]
    },
    {
     "data": {
      "image/png": "[encoded data removed]",
      "text/plain": [
       "<Figure size 1000x600 with 1 Axes>"
      ]
     },
     "metadata": {},
     "output_type": "display_data"
    }
   ],
   "source": [
    "# definir tamanho da figura\n",
    "plt.figure(figsize=(10, 6))\n",
    "\n",
    "\n",
    "sns.countplot(data = apostadores,\n",
    "              x = 'perfil', \n",
    "              hue = 'cor',\n",
    "              palette = cores)\n",
    "\n",
    "# definir texto do título e eixos x e y\n",
    "\n",
    "plt.title('Raça')\n",
    "plt.xlabel('Raça')\n",
    "plt.ylabel('Contagem')\n",
    "\n",
    "# plotar e definir texto da legenda\n",
    "plt.legend(title = 'Raça')\n",
    "\n",
    "plt.show()"
   ]
  },
  {
   "cell_type": "code",
   "execution_count": 36,
   "metadata": {},
   "outputs": [
    {
     "data": {
      "text/html": [
       "<div>\n",
       "<style scoped>\n",
       "    .dataframe tbody tr th:only-of-type {\n",
       "        vertical-align: middle;\n",
       "    }\n",
       "\n",
       "    .dataframe tbody tr th {\n",
       "        vertical-align: top;\n",
       "    }\n",
       "\n",
       "    .dataframe thead th {\n",
       "        text-align: right;\n",
       "    }\n",
       "</style>\n",
       "<table border=\"1\" class=\"dataframe\">\n",
       "  <thead>\n",
       "    <tr style=\"text-align: right;\">\n",
       "      <th>cor</th>\n",
       "      <th>Amarela</th>\n",
       "      <th>Branca</th>\n",
       "      <th>Indigena</th>\n",
       "      <th>Outras</th>\n",
       "      <th>Parda</th>\n",
       "      <th>Preta</th>\n",
       "    </tr>\n",
       "    <tr>\n",
       "      <th>perfil</th>\n",
       "      <th></th>\n",
       "      <th></th>\n",
       "      <th></th>\n",
       "      <th></th>\n",
       "      <th></th>\n",
       "      <th></th>\n",
       "    </tr>\n",
       "  </thead>\n",
       "  <tbody>\n",
       "    <tr>\n",
       "      <th>apostador</th>\n",
       "      <td>8</td>\n",
       "      <td>50</td>\n",
       "      <td>2</td>\n",
       "      <td>7</td>\n",
       "      <td>89</td>\n",
       "      <td>47</td>\n",
       "    </tr>\n",
       "  </tbody>\n",
       "</table>\n",
       "</div>"
      ],
      "text/plain": [
       "cor        Amarela  Branca  Indigena  Outras  Parda  Preta\n",
       "perfil                                                    \n",
       "apostador        8      50         2       7     89     47"
      ]
     },
     "execution_count": 36,
     "metadata": {},
     "output_type": "execute_result"
    }
   ],
   "source": [
    "perfil_raca = pd.pivot_table(apostadores, index='perfil', columns='cor', aggfunc='size', fill_value=0)\n",
    "perfil_raca"
   ]
  },
  {
   "cell_type": "code",
   "execution_count": 37,
   "metadata": {},
   "outputs": [
    {
     "data": {
      "text/html": [
       "<div>\n",
       "<style scoped>\n",
       "    .dataframe tbody tr th:only-of-type {\n",
       "        vertical-align: middle;\n",
       "    }\n",
       "\n",
       "    .dataframe tbody tr th {\n",
       "        vertical-align: top;\n",
       "    }\n",
       "\n",
       "    .dataframe thead th {\n",
       "        text-align: right;\n",
       "    }\n",
       "</style>\n",
       "<table border=\"1\" class=\"dataframe\">\n",
       "  <thead>\n",
       "    <tr style=\"text-align: right;\">\n",
       "      <th>cor</th>\n",
       "      <th>Amarela</th>\n",
       "      <th>Branca</th>\n",
       "      <th>Indigena</th>\n",
       "      <th>Outras</th>\n",
       "      <th>Parda</th>\n",
       "      <th>Preta</th>\n",
       "    </tr>\n",
       "    <tr>\n",
       "      <th>perfil</th>\n",
       "      <th></th>\n",
       "      <th></th>\n",
       "      <th></th>\n",
       "      <th></th>\n",
       "      <th></th>\n",
       "      <th></th>\n",
       "    </tr>\n",
       "  </thead>\n",
       "  <tbody>\n",
       "    <tr>\n",
       "      <th>apostador</th>\n",
       "      <td>3.940887</td>\n",
       "      <td>24.630542</td>\n",
       "      <td>0.985222</td>\n",
       "      <td>3.448276</td>\n",
       "      <td>43.842365</td>\n",
       "      <td>23.152709</td>\n",
       "    </tr>\n",
       "  </tbody>\n",
       "</table>\n",
       "</div>"
      ],
      "text/plain": [
       "cor         Amarela     Branca  Indigena    Outras      Parda      Preta\n",
       "perfil                                                                  \n",
       "apostador  3.940887  24.630542  0.985222  3.448276  43.842365  23.152709"
      ]
     },
     "execution_count": 37,
     "metadata": {},
     "output_type": "execute_result"
    }
   ],
   "source": [
    "perfil_raca_porcentagem = perfil_raca.div(perfil_raca.sum(axis=1), axis=0)*100\n",
    "perfil_raca_porcentagem"
   ]
  },
  {
   "cell_type": "code",
   "execution_count": 38,
   "metadata": {},
   "outputs": [
    {
     "data": {
      "text/plain": [
       "cor\n",
       "Parda       0.438424\n",
       "Branca      0.246305\n",
       "Preta       0.231527\n",
       "Amarela     0.039409\n",
       "Outras      0.034483\n",
       "Indigena    0.009852\n",
       "Name: proportion, dtype: float64"
      ]
     },
     "execution_count": 38,
     "metadata": {},
     "output_type": "execute_result"
    }
   ],
   "source": [
    "apostadores['cor'].value_counts(normalize=True)"
   ]
  },
  {
   "cell_type": "markdown",
   "metadata": {},
   "source": [
    "### Estado Civil"
   ]
  },
  {
   "cell_type": "code",
   "execution_count": 39,
   "metadata": {},
   "outputs": [
    {
     "name": "stderr",
     "output_type": "stream",
     "text": [
      "/var/folders/qh/0y24swzd4_z3zrrk6dvrgvqh0000gn/T/ipykernel_40020/2053388287.py:5: UserWarning: The palette list has more values (12) than needed (4), which may not be intended.\n",
      "  sns.countplot(data = apostadores,\n"
     ]
    },
    {
     "data": {
      "image/png": "[encoded data removed]",
      "text/plain": [
       "<Figure size 1000x600 with 1 Axes>"
      ]
     },
     "metadata": {},
     "output_type": "display_data"
    }
   ],
   "source": [
    "# definir tamanho da figura\n",
    "plt.figure(figsize=(10, 6))\n",
    "\n",
    "\n",
    "sns.countplot(data = apostadores,\n",
    "              x = 'perfil', \n",
    "              hue = 'estcivil',\n",
    "              palette = cores)\n",
    "\n",
    "# definir texto do título e eixos x e y\n",
    "\n",
    "plt.title('Estado Civil')\n",
    "plt.xlabel('Estado Civil')\n",
    "plt.ylabel('Contagem')\n",
    "\n",
    "# plotar e definir texto da legenda\n",
    "plt.legend(title = 'Estado Civil')\n",
    "\n",
    "plt.show()"
   ]
  },
  {
   "cell_type": "markdown",
   "metadata": {},
   "source": [
    "### Quantidade de filhos vs perfil"
   ]
  },
  {
   "cell_type": "code",
   "execution_count": 40,
   "metadata": {},
   "outputs": [
    {
     "data": {
      "text/plain": [
       "nfilhos\n",
       "0    0.507389\n",
       "1    0.226601\n",
       "2    0.147783\n",
       "3    0.068966\n",
       "4    0.024631\n",
       "6    0.014778\n",
       "9    0.004926\n",
       "5    0.004926\n",
       "Name: proportion, dtype: float64"
      ]
     },
     "execution_count": 40,
     "metadata": {},
     "output_type": "execute_result"
    }
   ],
   "source": [
    "apostadores['nfilhos'].value_counts(normalize = True)"
   ]
  },
  {
   "cell_type": "code",
   "execution_count": 41,
   "metadata": {},
   "outputs": [
    {
     "name": "stderr",
     "output_type": "stream",
     "text": [
      "/var/folders/qh/0y24swzd4_z3zrrk6dvrgvqh0000gn/T/ipykernel_40020/2998578110.py:5: UserWarning: The palette list has more values (12) than needed (8), which may not be intended.\n",
      "  sns.countplot(data = apostadores,\n"
     ]
    },
    {
     "data": {
      "image/png": "[encoded data removed]",
      "text/plain": [
       "<Figure size 1000x600 with 1 Axes>"
      ]
     },
     "metadata": {},
     "output_type": "display_data"
    }
   ],
   "source": [
    "# definir tamanho da figura\n",
    "plt.figure(figsize=(10, 6))\n",
    "\n",
    "\n",
    "sns.countplot(data = apostadores,\n",
    "              x = 'perfil', \n",
    "              hue = 'nfilhos',\n",
    "              palette = cores)\n",
    "\n",
    "# definir texto do título e eixos x e y\n",
    "\n",
    "plt.title('Quantidade de de Filhos')\n",
    "plt.ylabel('Contagem')\n",
    "\n",
    "# plotar e definir texto da legenda\n",
    "plt.legend(title = 'Nº de Filhos')\n",
    "\n",
    "plt.show()"
   ]
  },
  {
   "cell_type": "markdown",
   "metadata": {},
   "source": [
    "## Como se informam"
   ]
  },
  {
   "cell_type": "markdown",
   "metadata": {},
   "source": [
    "#### canais"
   ]
  },
  {
   "cell_type": "code",
   "execution_count": 43,
   "metadata": {},
   "outputs": [
    {
     "data": {
      "text/plain": [
       "p52aa\n",
       "Youtube          0.404762\n",
       "Instagram        0.273810\n",
       "WhatsApp         0.107143\n",
       "Portal / site    0.059524\n",
       "Televisao        0.047619\n",
       "Linkedin         0.023810\n",
       "Telegram         0.023810\n",
       "Podcasts         0.023810\n",
       "Nenhum           0.011905\n",
       "E-mail           0.011905\n",
       "Facebook         0.011905\n",
       "Name: proportion, dtype: float64"
      ]
     },
     "execution_count": 43,
     "metadata": {},
     "output_type": "execute_result"
    }
   ],
   "source": [
    "#p52aa- quais canais usa para se informar? \n",
    "\n",
    "canais = apostadores[apostadores['p52aa'] != '0']\n",
    "\n",
    "canais['p52aa'].value_counts(normalize=True)\n"
   ]
  },
  {
   "cell_type": "code",
   "execution_count": 44,
   "metadata": {},
   "outputs": [
    {
     "name": "stderr",
     "output_type": "stream",
     "text": [
      "/var/folders/qh/0y24swzd4_z3zrrk6dvrgvqh0000gn/T/ipykernel_40020/2676317396.py:5: UserWarning: The palette list has more values (12) than needed (11), which may not be intended.\n",
      "  sns.countplot(data = canais,\n"
     ]
    },
    {
     "data": {
      "image/png": "[encoded data removed]",
      "text/plain": [
       "<Figure size 1000x600 with 1 Axes>"
      ]
     },
     "metadata": {},
     "output_type": "display_data"
    }
   ],
   "source": [
    "# definir tamanho da figura\n",
    "plt.figure(figsize=(10, 6))\n",
    "\n",
    "\n",
    "sns.countplot(data = canais,\n",
    "              x = 'perfil', \n",
    "              hue = 'p52aa',\n",
    "              palette = cores)\n",
    "\n",
    "# definir texto do título e eixos x e y\n",
    "\n",
    "plt.title('Canais de Informação Utilizados')\n",
    "plt.ylabel('Contagem')\n",
    "\n",
    "# plotar e definir texto da legenda\n",
    "plt.legend(title = 'Canais')\n",
    "\n",
    "plt.show()"
   ]
  },
  {
   "cell_type": "markdown",
   "metadata": {},
   "source": [
    "#### busca infos"
   ]
  },
  {
   "cell_type": "code",
   "execution_count": 45,
   "metadata": {},
   "outputs": [
    {
     "data": {
      "text/plain": [
       "perfil     p55\n",
       "apostador  Nao    0.612613\n",
       "           Sim    0.387387\n",
       "Name: proportion, dtype: float64"
      ]
     },
     "execution_count": 45,
     "metadata": {},
     "output_type": "execute_result"
    }
   ],
   "source": [
    "#p55 - você já chegou a procurar informações e dicas sobre onde aplicar dinheiro?\n",
    "buscou = apostadores[apostadores['p55'] != '0']\n",
    "\n",
    "buscou.groupby('perfil')['p55'].value_counts(normalize=True)"
   ]
  },
  {
   "cell_type": "code",
   "execution_count": 46,
   "metadata": {},
   "outputs": [
    {
     "name": "stderr",
     "output_type": "stream",
     "text": [
      "/var/folders/qh/0y24swzd4_z3zrrk6dvrgvqh0000gn/T/ipykernel_40020/4034520392.py:5: UserWarning: The palette list has more values (12) than needed (2), which may not be intended.\n",
      "  sns.countplot(data = buscou,\n"
     ]
    },
    {
     "data": {
      "image/png": "[encoded data removed]",
      "text/plain": [
       "<Figure size 1000x600 with 1 Axes>"
      ]
     },
     "metadata": {},
     "output_type": "display_data"
    }
   ],
   "source": [
    "# definir tamanho da figura\n",
    "plt.figure(figsize=(10, 6))\n",
    "\n",
    "\n",
    "sns.countplot(data = buscou,\n",
    "              x = 'perfil', \n",
    "              hue = 'p55',\n",
    "              palette = cores)\n",
    "\n",
    "# definir texto do título e eixos x e y\n",
    "\n",
    "plt.title('Busca de Informações sobre Investimento')\n",
    "plt.ylabel('Contagem')\n",
    "\n",
    "# plotar e definir texto da legenda\n",
    "plt.legend(title = 'Resposta')\n",
    "\n",
    "plt.show()"
   ]
  },
  {
   "cell_type": "markdown",
   "metadata": {},
   "source": [
    "#### Onde busca"
   ]
  },
  {
   "cell_type": "code",
   "execution_count": 47,
   "metadata": {},
   "outputs": [
    {
     "data": {
      "text/plain": [
       "p56\n",
       "Internet/ Google/ Redes Sociais (Facebook, Instagram)/ YouTube                                                              0.325581\n",
       "Amigos/ Parentes                                                                                                            0.279070\n",
       "Sites de noticias                                                                                                           0.232558\n",
       "Aplicativos de corretoras e investimentos (do banco/ bancos digitais)                                                       0.046512\n",
       "Presencialmente, ou seja, falando com o gerente ou com o assessor/ especialista de investimento. (presencialmente na age    0.046512\n",
       "Cursos/ cursos online/ palestras/ na faculdade/ escola/ professor                                                           0.023256\n",
       "Outras respostas                                                                                                            0.023256\n",
       "Banco/ gerente de banco (sem especificar)                                                                                   0.023256\n",
       "Name: proportion, dtype: float64"
      ]
     },
     "execution_count": 47,
     "metadata": {},
     "output_type": "execute_result"
    }
   ],
   "source": [
    "#p56 - onde buscou essas informações?\n",
    "onde = apostadores[apostadores['p56'] != '0']\n",
    "\n",
    "onde['p56'].value_counts(normalize=True)"
   ]
  },
  {
   "cell_type": "code",
   "execution_count": 48,
   "metadata": {},
   "outputs": [
    {
     "name": "stderr",
     "output_type": "stream",
     "text": [
      "/var/folders/qh/0y24swzd4_z3zrrk6dvrgvqh0000gn/T/ipykernel_40020/1049565521.py:5: UserWarning: The palette list has more values (12) than needed (8), which may not be intended.\n",
      "  sns.countplot(data = onde,\n"
     ]
    },
    {
     "data": {
      "image/png": "[encoded data removed]",
      "text/plain": [
       "<Figure size 1000x600 with 1 Axes>"
      ]
     },
     "metadata": {},
     "output_type": "display_data"
    }
   ],
   "source": [
    "# definir tamanho da figura\n",
    "plt.figure(figsize=(10, 6))\n",
    "\n",
    "\n",
    "sns.countplot(data = onde,\n",
    "              x = 'perfil', \n",
    "              hue = 'p56',\n",
    "              palette = cores)\n",
    "\n",
    "# definir texto do título e eixos x e y\n",
    "\n",
    "plt.title('Onde busca de Informações sobre Investimento')\n",
    "plt.ylabel('Contagem')\n",
    "\n",
    "# plotar e definir texto da legenda\n",
    "plt.legend(loc='best')\n",
    "\n",
    "plt.show()"
   ]
  }
 ],
 "metadata": {
  "kernelspec": {
   "display_name": "Python 3",
   "language": "python",
   "name": "python3"
  },
  "language_info": {
   "codemirror_mode": {
    "name": "ipython",
    "version": 3
   },
   "file_extension": ".py",
   "mimetype": "text/x-python",
   "name": "python",
   "nbconvert_exporter": "python",
   "pygments_lexer": "ipython3",
   "version": "3.12.3"
  }
 },
 "nbformat": 4,
 "nbformat_minor": 2
}
